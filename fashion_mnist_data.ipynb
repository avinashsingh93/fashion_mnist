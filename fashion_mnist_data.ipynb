{
 "cells": [
  {
   "cell_type": "code",
   "execution_count": 45,
   "metadata": {},
   "outputs": [],
   "source": [
    "from keras.utils import to_categorical\n",
    "import numpy as np\n",
    "import pandas as pd\n",
    "import matplotlib.pyplot as plt"
   ]
  },
  {
   "cell_type": "code",
   "execution_count": 29,
   "metadata": {},
   "outputs": [
    {
     "name": "stderr",
     "output_type": "stream",
     "text": [
      "C:\\Users\\Avinash.Singh26\\AppData\\Local\\Continuum\\miniconda3\\envs\\pacman\\lib\\site-packages\\ipykernel_launcher.py:1: FutureWarning: Method .as_matrix will be removed in a future version. Use .values instead.\n",
      "  \"\"\"Entry point for launching an IPython kernel.\n",
      "C:\\Users\\Avinash.Singh26\\AppData\\Local\\Continuum\\miniconda3\\envs\\pacman\\lib\\site-packages\\ipykernel_launcher.py:2: FutureWarning: Method .as_matrix will be removed in a future version. Use .values instead.\n",
      "  \n"
     ]
    }
   ],
   "source": [
    "a=pd.read_csv('data/fashion-mnist_train.csv').as_matrix()\n",
    "b=pd.read_csv('data/fashion-mnist_test.csv').as_matrix()"
   ]
  },
  {
   "cell_type": "code",
   "execution_count": 33,
   "metadata": {},
   "outputs": [],
   "source": [
    "(train_Y,train_X)=a[:,0],a[:,1:]\n",
    "(test_Y,test_X)=b[:,0],b[:,1:]"
   ]
  },
  {
   "cell_type": "code",
   "execution_count": 93,
   "metadata": {},
   "outputs": [
    {
     "data": {
      "text/plain": [
       "((10000,), (10000, 784))"
      ]
     },
     "execution_count": 93,
     "metadata": {},
     "output_type": "execute_result"
    }
   ],
   "source": [
    "\n",
    "test_Y.shape,test_X.shape"
   ]
  },
  {
   "cell_type": "code",
   "execution_count": 34,
   "metadata": {},
   "outputs": [
    {
     "name": "stdout",
     "output_type": "stream",
     "text": [
      "(10000, 784)\n"
     ]
    }
   ],
   "source": [
    "print(test_X.shape)"
   ]
  },
  {
   "cell_type": "code",
   "execution_count": 35,
   "metadata": {},
   "outputs": [],
   "source": [
    "train_X=np.reshape(train_X,(60000,28,28))\n",
    "test_X=np.reshape(test_X,(10000 ,28,28))"
   ]
  },
  {
   "cell_type": "code",
   "execution_count": 56,
   "metadata": {},
   "outputs": [
    {
     "name": "stdout",
     "output_type": "stream",
     "text": [
      "Training data shape:  (60000, 28, 28, 1) (60000,)\n",
      "Testing data shape:  (60000, 28, 28, 1) (10000,)\n"
     ]
    }
   ],
   "source": [
    "print(\"Training data shape: \",train_X.shape, train_Y.shape)\n",
    "print(\"Testing data shape: \",test_X.shape, test_Y.shape)"
   ]
  },
  {
   "cell_type": "markdown",
   "metadata": {},
   "source": [
    "Display number of unique classes"
   ]
  },
  {
   "cell_type": "code",
   "execution_count": 43,
   "metadata": {},
   "outputs": [
    {
     "name": "stdout",
     "output_type": "stream",
     "text": [
      "Total number of outputs :  10\n",
      "Output Classes :  [0 1 2 3 4 5 6 7 8 9]\n"
     ]
    }
   ],
   "source": [
    "classes=np.unique(train_Y)\n",
    "nClasses=len(classes)\n",
    "print(\"Total number of outputs : \",nClasses)\n",
    "print(\"Output Classes : \",classes)"
   ]
  },
  {
   "cell_type": "code",
   "execution_count": 52,
   "metadata": {
    "scrolled": true
   },
   "outputs": [
    {
     "data": {
      "text/plain": [
       "Text(0.5,1,'Ground Truth : 0')"
      ]
     },
     "execution_count": 52,
     "metadata": {},
     "output_type": "execute_result"
    },
    {
     "data": {
      "image/png": "[encoded data removed]",
      "text/plain": [
       "<Figure size 360x360 with 2 Axes>"
      ]
     },
     "metadata": {},
     "output_type": "display_data"
    }
   ],
   "source": [
    "plt.figure(figsize=[5,5])\n",
    "plt.subplot(121)\n",
    "plt.imshow(train_X[0,:,:],cmap='gray')\n",
    "plt.title(\"Ground Truth : {}\".format(train_Y[0]))\n",
    "plt.subplot(122)\n",
    "plt.imshow(test_X[0,:,:],cmap='gray')\n",
    "plt.title(\"Ground Truth : {}\".format(test_Y[0]))"
   ]
  },
  {
   "cell_type": "markdown",
   "metadata": {},
   "source": [
    "# Preprocessing"
   ]
  },
  {
   "cell_type": "code",
   "execution_count": 55,
   "metadata": {},
   "outputs": [
    {
     "data": {
      "text/plain": [
       "((60000, 28, 28, 1), (60000, 28, 28, 1))"
      ]
     },
     "execution_count": 55,
     "metadata": {},
     "output_type": "execute_result"
    }
   ],
   "source": [
    "train_X=train_X.reshape(-1,28,28,1)\n",
    "test_X=test_X.reshape(-1,28,28,1)\n",
    "train_X.shape,test_X.shape"
   ]
  },
  {
   "cell_type": "code",
   "execution_count": 57,
   "metadata": {},
   "outputs": [],
   "source": [
    "train_X=train_X.astype('float32')\n",
    "test_X=test_X.astype('float32')\n",
    "train_X=train_X/255.\n",
    "test_X=test_X/255."
   ]
  },
  {
   "cell_type": "code",
   "execution_count": 94,
   "metadata": {},
   "outputs": [],
   "source": [
    "#test_X=test_X/255."
   ]
  },
  {
   "cell_type": "code",
   "execution_count": 67,
   "metadata": {},
   "outputs": [
    {
     "name": "stdout",
     "output_type": "stream",
     "text": [
      "Original label:  6\n",
      "After One hot Conversion:  [0. 0. 0. 0. 0. 0. 1. 0. 0. 0.]\n"
     ]
    }
   ],
   "source": [
    "#One Hot Encodsing\n",
    "\n",
    "train_Y_one_hot=to_categorical(train_Y)\n",
    "test_Y_one_hot=to_categorical(test_Y)\n",
    "print('Original label: ',train_Y[2])\n",
    "print('After One hot Conversion: ',train_Y_one_hot[2])"
   ]
  },
  {
   "cell_type": "code",
   "execution_count": 98,
   "metadata": {},
   "outputs": [
    {
     "data": {
      "text/plain": [
       "((10000, 28, 28, 1), (10000, 10))"
      ]
     },
     "execution_count": 98,
     "metadata": {},
     "output_type": "execute_result"
    }
   ],
   "source": [
    "#test_X=test_X.reshape(-1,28,28,1)\n",
    "#test_X.shape,test_Y_one_hot.shape"
   ]
  },
  {
   "cell_type": "code",
   "execution_count": 65,
   "metadata": {},
   "outputs": [],
   "source": [
    "from sklearn.model_selection import train_test_split\n",
    "train_X,valid_X,train_label,valid_label=train_test_split(train_X,train_Y_one_hot,test_size=0.2,random_state=13)"
   ]
  },
  {
   "cell_type": "code",
   "execution_count": 69,
   "metadata": {},
   "outputs": [
    {
     "data": {
      "text/plain": [
       "((48000, 28, 28, 1), (12000, 28, 28, 1), (48000, 10), (12000, 10))"
      ]
     },
     "execution_count": 69,
     "metadata": {},
     "output_type": "execute_result"
    }
   ],
   "source": [
    "#Now the data is split between train and test part\n",
    "train_X.shape,valid_X.shape,train_label.shape,valid_label.shape"
   ]
  },
  {
   "cell_type": "markdown",
   "metadata": {},
   "source": [
    "# Model the data"
   ]
  },
  {
   "cell_type": "code",
   "execution_count": 76,
   "metadata": {},
   "outputs": [],
   "source": [
    "import keras\n",
    "from keras.models import Sequential,Input,Model\n",
    "from keras.layers import Dense,Dropout,Flatten\n",
    "from keras.layers import Conv2D,MaxPooling2D\n",
    "from keras.layers.normalization import BatchNormalization\n",
    "from keras.layers.advanced_activations import LeakyReLU"
   ]
  },
  {
   "cell_type": "code",
   "execution_count": 77,
   "metadata": {},
   "outputs": [],
   "source": [
    "batch_size=64\n",
    "epochs=20\n",
    "num_classes=10"
   ]
  },
  {
   "cell_type": "code",
   "execution_count": 88,
   "metadata": {},
   "outputs": [],
   "source": [
    "fashion_model=Sequential()\n",
    "fashion_model.add(Conv2D(32,kernel_size=(3,3),activation='linear',input_shape=(28,28,1),padding='same'))\n",
    "fashion_model.add(LeakyReLU(alpha=0.1))\n",
    "fashion_model.add(MaxPooling2D((2, 2),padding='same'))\n",
    "fashion_model.add(Conv2D(64,(3,3),activation='linear',padding='same'))\n",
    "fashion_model.add(LeakyReLU(alpha=0.1))\n",
    "fashion_model.add(MaxPooling2D((2,2),padding='same'))\n",
    "fashion_model.add(Conv2D(128, (3, 3), activation='linear',padding='same'))\n",
    "fashion_model.add(LeakyReLU(alpha=0.1))                  \n",
    "fashion_model.add(MaxPooling2D(pool_size=(2, 2),padding='same'))\n",
    "fashion_model.add(Flatten())\n",
    "fashion_model.add(Dense(128,activation='linear'))\n",
    "fashion_model.add(LeakyReLU(alpha=0.1))\n",
    "fashion_model.add(Dense(num_classes,activation='softmax'))"
   ]
  },
  {
   "cell_type": "code",
   "execution_count": 89,
   "metadata": {},
   "outputs": [],
   "source": [
    "fashion_model.compile(loss=keras.losses.categorical_crossentropy,optimizer=keras.optimizers.Adam(),metrics=['accuracy'])"
   ]
  },
  {
   "cell_type": "code",
   "execution_count": 90,
   "metadata": {},
   "outputs": [
    {
     "name": "stdout",
     "output_type": "stream",
     "text": [
      "_________________________________________________________________\n",
      "Layer (type)                 Output Shape              Param #   \n",
      "=================================================================\n",
      "conv2d_15 (Conv2D)           (None, 28, 28, 32)        320       \n",
      "_________________________________________________________________\n",
      "leaky_re_lu_11 (LeakyReLU)   (None, 28, 28, 32)        0         \n",
      "_________________________________________________________________\n",
      "max_pooling2d_10 (MaxPooling (None, 14, 14, 32)        0         \n",
      "_________________________________________________________________\n",
      "conv2d_16 (Conv2D)           (None, 14, 14, 64)        18496     \n",
      "_________________________________________________________________\n",
      "leaky_re_lu_12 (LeakyReLU)   (None, 14, 14, 64)        0         \n",
      "_________________________________________________________________\n",
      "max_pooling2d_11 (MaxPooling (None, 7, 7, 64)          0         \n",
      "_________________________________________________________________\n",
      "conv2d_17 (Conv2D)           (None, 7, 7, 128)         73856     \n",
      "_________________________________________________________________\n",
      "leaky_re_lu_13 (LeakyReLU)   (None, 7, 7, 128)         0         \n",
      "_________________________________________________________________\n",
      "max_pooling2d_12 (MaxPooling (None, 4, 4, 128)         0         \n",
      "_________________________________________________________________\n",
      "flatten_2 (Flatten)          (None, 2048)              0         \n",
      "_________________________________________________________________\n",
      "dense_1 (Dense)              (None, 128)               262272    \n",
      "_________________________________________________________________\n",
      "leaky_re_lu_14 (LeakyReLU)   (None, 128)               0         \n",
      "_________________________________________________________________\n",
      "dense_2 (Dense)              (None, 10)                1290      \n",
      "=================================================================\n",
      "Total params: 356,234\n",
      "Trainable params: 356,234\n",
      "Non-trainable params: 0\n",
      "_________________________________________________________________\n"
     ]
    }
   ],
   "source": [
    "fashion_model.summary()"
   ]
  },
  {
   "cell_type": "code",
   "execution_count": 91,
   "metadata": {},
   "outputs": [
    {
     "name": "stdout",
     "output_type": "stream",
     "text": [
      "Train on 48000 samples, validate on 12000 samples\n",
      "Epoch 1/20\n",
      "48000/48000 [==============================] - 190s 4ms/step - loss: 0.4740 - acc: 0.8266 - val_loss: 0.3449 - val_acc: 0.8708\n",
      "Epoch 2/20\n",
      "48000/48000 [==============================] - 169s 4ms/step - loss: 0.2973 - acc: 0.8926 - val_loss: 0.2865 - val_acc: 0.8916\n",
      "Epoch 3/20\n",
      "48000/48000 [==============================] - 184s 4ms/step - loss: 0.2466 - acc: 0.9093 - val_loss: 0.2644 - val_acc: 0.9040\n",
      "Epoch 4/20\n",
      "48000/48000 [==============================] - 184s 4ms/step - loss: 0.2157 - acc: 0.9208 - val_loss: 0.2505 - val_acc: 0.9093\n",
      "Epoch 5/20\n",
      "48000/48000 [==============================] - 194s 4ms/step - loss: 0.1888 - acc: 0.9313 - val_loss: 0.2356 - val_acc: 0.9138\n",
      "Epoch 6/20\n",
      "48000/48000 [==============================] - 191s 4ms/step - loss: 0.1644 - acc: 0.9403 - val_loss: 0.2337 - val_acc: 0.9177\n",
      "Epoch 7/20\n",
      "48000/48000 [==============================] - 185s 4ms/step - loss: 0.1422 - acc: 0.9472 - val_loss: 0.2455 - val_acc: 0.9148\n",
      "Epoch 8/20\n",
      "48000/48000 [==============================] - 179s 4ms/step - loss: 0.1222 - acc: 0.9557 - val_loss: 0.2411 - val_acc: 0.9167\n",
      "Epoch 9/20\n",
      "48000/48000 [==============================] - 175s 4ms/step - loss: 0.1069 - acc: 0.9596 - val_loss: 0.2587 - val_acc: 0.9152\n",
      "Epoch 10/20\n",
      "48000/48000 [==============================] - 175s 4ms/step - loss: 0.0888 - acc: 0.9670 - val_loss: 0.2474 - val_acc: 0.9173\n",
      "Epoch 11/20\n",
      "48000/48000 [==============================] - 175s 4ms/step - loss: 0.0744 - acc: 0.9723 - val_loss: 0.2746 - val_acc: 0.9211\n",
      "Epoch 12/20\n",
      "48000/48000 [==============================] - 175s 4ms/step - loss: 0.0647 - acc: 0.9759 - val_loss: 0.2737 - val_acc: 0.9187\n",
      "Epoch 13/20\n",
      "48000/48000 [==============================] - 175s 4ms/step - loss: 0.0580 - acc: 0.9786 - val_loss: 0.3019 - val_acc: 0.9188\n",
      "Epoch 14/20\n",
      "48000/48000 [==============================] - 175s 4ms/step - loss: 0.0474 - acc: 0.9827 - val_loss: 0.3232 - val_acc: 0.9162\n",
      "Epoch 15/20\n",
      "48000/48000 [==============================] - 176s 4ms/step - loss: 0.0436 - acc: 0.9840 - val_loss: 0.3485 - val_acc: 0.9170\n",
      "Epoch 16/20\n",
      "48000/48000 [==============================] - 175s 4ms/step - loss: 0.0379 - acc: 0.9866 - val_loss: 0.3498 - val_acc: 0.9153\n",
      "Epoch 17/20\n",
      "48000/48000 [==============================] - 176s 4ms/step - loss: 0.0358 - acc: 0.9868 - val_loss: 0.3538 - val_acc: 0.9190\n",
      "Epoch 18/20\n",
      "48000/48000 [==============================] - 176s 4ms/step - loss: 0.0343 - acc: 0.9876 - val_loss: 0.3759 - val_acc: 0.9222\n",
      "Epoch 19/20\n",
      "48000/48000 [==============================] - 4717s 98ms/step - loss: 0.0296 - acc: 0.9896 - val_loss: 0.4391 - val_acc: 0.9132\n",
      "Epoch 20/20\n",
      "48000/48000 [==============================] - 176s 4ms/step - loss: 0.0293 - acc: 0.9893 - val_loss: 0.4082 - val_acc: 0.9194\n"
     ]
    }
   ],
   "source": [
    "fashion_train=fashion_model.fit(train_X,train_label,batch_size=batch_size,epochs=epochs,verbose=1,validation_data=\n",
    "                                (valid_X,valid_label))"
   ]
  },
  {
   "cell_type": "markdown",
   "metadata": {},
   "source": [
    "# MODEL EVALUATION ON THE TEST SET"
   ]
  },
  {
   "cell_type": "code",
   "execution_count": 99,
   "metadata": {},
   "outputs": [],
   "source": [
    "test_eval=fashion_model.evaluate(test_X,test_Y_one_hot,verbose=0)"
   ]
  },
  {
   "cell_type": "code",
   "execution_count": 100,
   "metadata": {},
   "outputs": [
    {
     "name": "stdout",
     "output_type": "stream",
     "text": [
      "Test Loss :  0.40719987354278564\n",
      "Test Accuracy :  0.9228\n"
     ]
    }
   ],
   "source": [
    "print(\"Test Loss : \",test_eval[0])\n",
    "print(\"Test Accuracy : \",test_eval[1])"
   ]
  },
  {
   "cell_type": "markdown",
   "metadata": {},
   "source": [
    "# Predicted Labels"
   ]
  },
  {
   "cell_type": "code",
   "execution_count": 101,
   "metadata": {},
   "outputs": [],
   "source": [
    "predicted_classes=fashion_model.predict(test_X)"
   ]
  },
  {
   "cell_type": "code",
   "execution_count": 104,
   "metadata": {},
   "outputs": [],
   "source": [
    "predicted_classes=np.argmax(np.round(predicted_classes),axis=1)"
   ]
  },
  {
   "cell_type": "code",
   "execution_count": 106,
   "metadata": {},
   "outputs": [
    {
     "name": "stdout",
     "output_type": "stream",
     "text": [
      "(10000,) (10000,)\n"
     ]
    }
   ],
   "source": [
    "print(predicted_classes.shape,test_Y.shape)"
   ]
  },
  {
   "cell_type": "code",
   "execution_count": 110,
   "metadata": {},
   "outputs": [
    {
     "data": {
      "image/png": "[encoded data removed]",
      "text/plain": [
       "<Figure size 432x288 with 9 Axes>"
      ]
     },
     "metadata": {},
     "output_type": "display_data"
    }
   ],
   "source": [
    "correct = np.where(predicted_classes==test_Y)[0]\n",
    "for i, correct in enumerate(correct[:9]):\n",
    "    plt.subplot(3,3,i+1)\n",
    "    plt.imshow(test_X[correct].reshape(28,28), cmap='gray', interpolation='none')\n",
    "    plt.title(\"Predicted {}, Class {}\".format(predicted_classes[correct], test_Y[correct]))\n",
    "    plt.tight_layout()"
   ]
  },
  {
   "cell_type": "code",
   "execution_count": null,
   "metadata": {},
   "outputs": [],
   "source": []
  }
 ],
 "metadata": {
  "kernelspec": {
   "display_name": "Python 3",
   "language": "python",
   "name": "python3"
  },
  "language_info": {
   "codemirror_mode": {
    "name": "ipython",
    "version": 3
   },
   "file_extension": ".py",
   "mimetype": "text/x-python",
   "name": "python",
   "nbconvert_exporter": "python",
   "pygments_lexer": "ipython3",
   "version": "3.6.5"
  }
 },
 "nbformat": 4,
 "nbformat_minor": 2
}
